{
  "nbformat": 4,
  "nbformat_minor": 0,
  "metadata": {
    "colab": {
      "provenance": []
    },
    "kernelspec": {
      "name": "python3",
      "display_name": "Python 3"
    },
    "language_info": {
      "name": "python"
    }
  },
  "cells": [
    {
      "cell_type": "markdown",
      "source": [
        "#Task 1: Load and preprocess the dataset"
      ],
      "metadata": {
        "id": "C8pYtlXg6xhF"
      }
    },
    {
      "cell_type": "markdown",
      "source": [
        "### Import the required libraries (NumPy and Matplotlib)"
      ],
      "metadata": {
        "id": "bxNCMdBc72E8"
      }
    },
    {
      "cell_type": "code",
      "execution_count": 1,
      "metadata": {
        "id": "6eaNiEDJ3lqe"
      },
      "outputs": [],
      "source": [
        "import numpy as np\n",
        "import matplotlib.pyplot as plt\n",
        "from tensorflow.keras.datasets import mnist\n",
        "from sklearn.model_selection import train_test_split"
      ]
    },
    {
      "cell_type": "markdown",
      "source": [
        "### Load the dataset (linearly separable) using the load_data() method"
      ],
      "metadata": {
        "id": "0PXumHDy8Kwy"
      }
    },
    {
      "cell_type": "code",
      "source": [
        "# Load the dataset\n",
        "(X_train, y_train), (X_test, y_test) = mnist.load_data()\n"
      ],
      "metadata": {
        "id": "RCyhE5ou8K_C",
        "colab": {
          "base_uri": "https://localhost:8080/"
        },
        "outputId": "820adf0f-4e61-48c3-aa4e-011bd074e57a"
      },
      "execution_count": 2,
      "outputs": [
        {
          "output_type": "stream",
          "name": "stdout",
          "text": [
            "Downloading data from https://storage.googleapis.com/tensorflow/tf-keras-datasets/mnist.npz\n",
            "11490434/11490434 [==============================] - 0s 0us/step\n"
          ]
        }
      ]
    },
    {
      "cell_type": "markdown",
      "source": [
        "### Normalize the dataset by dividing the pixel values by 255"
      ],
      "metadata": {
        "id": "JjKraM8c-Z2_"
      }
    },
    {
      "cell_type": "code",
      "source": [
        "# Normalize the dataset\n",
        "X_train = X_train / 255.0\n",
        "X_test = X_test / 255.0\n",
        "\n",
        "# Reshape the features to a 2D array\n",
        "X_train = X_train.reshape(X_train.shape[0], -1)\n",
        "X_test = X_test.reshape(X_test.shape[0], -1)"
      ],
      "metadata": {
        "id": "yUx3bron9kbY"
      },
      "execution_count": 3,
      "outputs": []
    },
    {
      "cell_type": "markdown",
      "source": [
        "### Split the dataset into training and test sets using train_test_split() method."
      ],
      "metadata": {
        "id": "4xLpWEm2_jth"
      }
    },
    {
      "cell_type": "code",
      "source": [
        "# Split the dataset into training and test sets\n",
        "X_train, X_val, y_train, y_val = train_test_split(X_train, y_train, test_size=0.2, random_state=42)"
      ],
      "metadata": {
        "id": "fwsMBP9b_jCZ"
      },
      "execution_count": 4,
      "outputs": []
    },
    {
      "cell_type": "markdown",
      "source": [
        "#Task 2: Visualize the dataset"
      ],
      "metadata": {
        "id": "9SHQfDnXBImu"
      }
    },
    {
      "cell_type": "code",
      "source": [
        "# Visualize some random images\n",
        "fig, axs = plt.subplots(3, 3, figsize=(8, 8))\n",
        "axs = axs.flatten()\n",
        "for i in range(9):\n",
        "    img = X_train[np.random.randint(0, len(X_train))]\n",
        "    axs[i].imshow(img.reshape(28,28), cmap='gray')\n",
        "    axs[i].axis('off')\n",
        "plt.show()"
      ],
      "metadata": {
        "colab": {
          "base_uri": "https://localhost:8080/",
          "height": 466
        },
        "id": "KkHFtzt5AkWb",
        "outputId": "e6dffc42-7513-4113-9a68-81f4ecc78700"
      },
      "execution_count": 5,
      "outputs": [
        {
          "output_type": "display_data",
          "data": {
            "text/plain": [
              "<Figure size 576x576 with 9 Axes>"
            ],
            "image/png": "[encoded data removed]"
          },
          "metadata": {
            "needs_background": "light"
          }
        }
      ]
    },
    {
      "cell_type": "markdown",
      "source": [
        "# Task 3: Implement the Simple Perceptron model"
      ],
      "metadata": {
        "id": "MSk8BqI5BMoe"
      }
    },
    {
      "cell_type": "code",
      "source": [
        "class SimplePerceptron:\n",
        "    def __init__(self, learning_rate=0.001):\n",
        "        self.learning_rate = learning_rate\n",
        "        self.weights = None\n",
        "        self.bias = None\n",
        "\n",
        "    def fit(self, X, y, epochs):\n",
        "        # Initialize the weights and bias\n",
        "        self.weights = np.zeros(X.shape[1])\n",
        "        self.bias = 0\n",
        "\n",
        "        # Iterate over the training data for the specified number of epochs\n",
        "        for epoch in range(epochs):\n",
        "            # Iterate over each training example\n",
        "            for i in range(X.shape[0]):\n",
        "                # Compute the output\n",
        "                z = np.dot(X[i], self.weights) + self.bias\n",
        "                output = self.activation(z)\n",
        "\n",
        "                # Compute the weight update\n",
        "                delta_weights = self.learning_rate * (y[i] - output) * X[i]\n",
        "\n",
        "                # Update the weights and bias\n",
        "                self.weights += delta_weights\n",
        "                self.bias += self.learning_rate * (y[i] - output)\n",
        "\n",
        "    def predict(self, X):\n",
        "        # Compute the dot product of the inputs and weights, add the bias, and pass through the activation function\n",
        "        z = np.dot(X, self.weights) + self.bias\n",
        "        output = self.activation(z)\n",
        "        return output\n",
        "\n",
        "    def activation(self, z):\n",
        "        # Step function as the activation function\n",
        "        return np.where(z >= 0, 1, 0)\n"
      ],
      "metadata": {
        "id": "S6AXZ20yBfgX"
      },
      "execution_count": 6,
      "outputs": []
    },
    {
      "cell_type": "markdown",
      "source": [
        "# Task 4: Train the Simple Perceptron model"
      ],
      "metadata": {
        "id": "bchiEdLEDbi-"
      }
    },
    {
      "cell_type": "code",
      "source": [
        "perceptron = SimplePerceptron()\n",
        "perceptron.fit(X_train, y_train, 500)\n"
      ],
      "metadata": {
        "id": "NDiTROnwDvPW"
      },
      "execution_count": 7,
      "outputs": []
    },
    {
      "cell_type": "markdown",
      "source": [
        "#Task 5: Evaluate the performance of the Simple Perceptron model on the test set"
      ],
      "metadata": {
        "id": "PG8MOFJSIC-H"
      }
    },
    {
      "cell_type": "code",
      "source": [
        "y_pred = perceptron.predict(X_test)\n",
        "accuracy = np.mean(y_pred == y_test)\n",
        "\n",
        "print(\"Accuracy:\", accuracy*100)"
      ],
      "metadata": {
        "colab": {
          "base_uri": "https://localhost:8080/"
        },
        "id": "DmfYYKpOIHNn",
        "outputId": "942630d0-95a2-41d6-9f53-618ac52f9f31"
      },
      "execution_count": 8,
      "outputs": [
        {
          "output_type": "stream",
          "name": "stdout",
          "text": [
            "Accuracy: 11.35\n"
          ]
        }
      ]
    },
    {
      "cell_type": "markdown",
      "source": [
        "# Task 6: Analysis on the results\n",
        "### Are the accuracy scores satisfactory or not? If not, what measures can be taken to improve the accuracy scores? Please express your ideas in your own words.\n"
      ],
      "metadata": {
        "id": "0GwltUr0jCPi"
      }
    },
    {
      "cell_type": "markdown",
      "source": [
        "**The accuracy score is not satisfactory as you can see the accuracy calculated is very low and there are several reasons for the low accuracy. Firstly, a single simple perceptron can not perform multiclass classification. Secondly, the dataset is very large for a single perceptron to work with. Thirdly, there are no hidden layers. A multi-layer perceptron model having hidden layers to track different patterns in the images can help to classify the above MNIST dataset with accuracy.**\n",
        "\n",
        "**By incorporating the above stated points in the solution, we can improve the accuracy of the model.** "
      ],
      "metadata": {
        "id": "v_XMX6UnjG7l"
      }
    }
  ]
}