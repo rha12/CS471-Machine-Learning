{
  "nbformat": 4,
  "nbformat_minor": 0,
  "metadata": {
    "colab": {
      "provenance": []
    },
    "kernelspec": {
      "name": "python3",
      "display_name": "Python 3"
    },
    "language_info": {
      "name": "python"
    }
  },
  "cells": [
    {
      "cell_type": "markdown",
      "source": [
        "# 1.\tImport the necessary libraries and load the dataset\n",
        "\n"
      ],
      "metadata": {
        "id": "VOeZXPlnWHv_"
      }
    },
    {
      "cell_type": "code",
      "source": [
        "# import necessary libraries\n",
        "import pandas as pd\n",
        "import numpy as np\n",
        "from sklearn.preprocessing import StandardScaler\n",
        "from sklearn.model_selection import train_test_split\n",
        "from sklearn.linear_model import LinearRegression\n",
        "from sklearn.metrics import mean_squared_error\n"
      ],
      "metadata": {
        "id": "NVPBfDF5aflj"
      },
      "execution_count": 1,
      "outputs": []
    },
    {
      "cell_type": "code",
      "execution_count": 2,
      "metadata": {
        "colab": {
          "base_uri": "https://localhost:8080/",
          "height": 369
        },
        "id": "-215do5vTNDi",
        "outputId": "eb061713-6d77-4af3-c481-9cb4b5e58a21"
      },
      "outputs": [
        {
          "output_type": "execute_result",
          "data": {
            "text/plain": [
              "   symboling normalized-losses         make fuel-type aspiration num-of-doors  \\\n",
              "0          3                 ?  alfa-romero       gas        std          two   \n",
              "1          1                 ?  alfa-romero       gas        std          two   \n",
              "2          2               164         audi       gas        std         four   \n",
              "3          2               164         audi       gas        std         four   \n",
              "4          2                 ?         audi       gas        std          two   \n",
              "\n",
              "    body-style drive-wheels engine-location  wheel-base  ...  engine-size  \\\n",
              "0  convertible          rwd           front        88.6  ...          130   \n",
              "1    hatchback          rwd           front        94.5  ...          152   \n",
              "2        sedan          fwd           front        99.8  ...          109   \n",
              "3        sedan          4wd           front        99.4  ...          136   \n",
              "4        sedan          fwd           front        99.8  ...          136   \n",
              "\n",
              "   fuel-system  bore  stroke compression-ratio horsepower  peak-rpm city-mpg  \\\n",
              "0         mpfi  3.47    2.68               9.0        111      5000       21   \n",
              "1         mpfi  2.68    3.47               9.0        154      5000       19   \n",
              "2         mpfi  3.19    3.40              10.0        102      5500       24   \n",
              "3         mpfi  3.19    3.40               8.0        115      5500       18   \n",
              "4         mpfi  3.19    3.40               8.5        110      5500       19   \n",
              "\n",
              "  highway-mpg  price  \n",
              "0          27  16500  \n",
              "1          26  16500  \n",
              "2          30  13950  \n",
              "3          22  17450  \n",
              "4          25  15250  \n",
              "\n",
              "[5 rows x 26 columns]"
            ],
            "text/html": [
              "\n",
              "  <div id=\"df-79c462ee-7981-4fc1-b910-8877ac560cf8\">\n",
              "    <div class=\"colab-df-container\">\n",
              "      <div>\n",
              "<style scoped>\n",
              "    .dataframe tbody tr th:only-of-type {\n",
              "        vertical-align: middle;\n",
              "    }\n",
              "\n",
              "    .dataframe tbody tr th {\n",
              "        vertical-align: top;\n",
              "    }\n",
              "\n",
              "    .dataframe thead th {\n",
              "        text-align: right;\n",
              "    }\n",
              "</style>\n",
              "<table border=\"1\" class=\"dataframe\">\n",
              "  <thead>\n",
              "    <tr style=\"text-align: right;\">\n",
              "      <th></th>\n",
              "      <th>symboling</th>\n",
              "      <th>normalized-losses</th>\n",
              "      <th>make</th>\n",
              "      <th>fuel-type</th>\n",
              "      <th>aspiration</th>\n",
              "      <th>num-of-doors</th>\n",
              "      <th>body-style</th>\n",
              "      <th>drive-wheels</th>\n",
              "      <th>engine-location</th>\n",
              "      <th>wheel-base</th>\n",
              "      <th>...</th>\n",
              "      <th>engine-size</th>\n",
              "      <th>fuel-system</th>\n",
              "      <th>bore</th>\n",
              "      <th>stroke</th>\n",
              "      <th>compression-ratio</th>\n",
              "      <th>horsepower</th>\n",
              "      <th>peak-rpm</th>\n",
              "      <th>city-mpg</th>\n",
              "      <th>highway-mpg</th>\n",
              "      <th>price</th>\n",
              "    </tr>\n",
              "  </thead>\n",
              "  <tbody>\n",
              "    <tr>\n",
              "      <th>0</th>\n",
              "      <td>3</td>\n",
              "      <td>?</td>\n",
              "      <td>alfa-romero</td>\n",
              "      <td>gas</td>\n",
              "      <td>std</td>\n",
              "      <td>two</td>\n",
              "      <td>convertible</td>\n",
              "      <td>rwd</td>\n",
              "      <td>front</td>\n",
              "      <td>88.6</td>\n",
              "      <td>...</td>\n",
              "      <td>130</td>\n",
              "      <td>mpfi</td>\n",
              "      <td>3.47</td>\n",
              "      <td>2.68</td>\n",
              "      <td>9.0</td>\n",
              "      <td>111</td>\n",
              "      <td>5000</td>\n",
              "      <td>21</td>\n",
              "      <td>27</td>\n",
              "      <td>16500</td>\n",
              "    </tr>\n",
              "    <tr>\n",
              "      <th>1</th>\n",
              "      <td>1</td>\n",
              "      <td>?</td>\n",
              "      <td>alfa-romero</td>\n",
              "      <td>gas</td>\n",
              "      <td>std</td>\n",
              "      <td>two</td>\n",
              "      <td>hatchback</td>\n",
              "      <td>rwd</td>\n",
              "      <td>front</td>\n",
              "      <td>94.5</td>\n",
              "      <td>...</td>\n",
              "      <td>152</td>\n",
              "      <td>mpfi</td>\n",
              "      <td>2.68</td>\n",
              "      <td>3.47</td>\n",
              "      <td>9.0</td>\n",
              "      <td>154</td>\n",
              "      <td>5000</td>\n",
              "      <td>19</td>\n",
              "      <td>26</td>\n",
              "      <td>16500</td>\n",
              "    </tr>\n",
              "    <tr>\n",
              "      <th>2</th>\n",
              "      <td>2</td>\n",
              "      <td>164</td>\n",
              "      <td>audi</td>\n",
              "      <td>gas</td>\n",
              "      <td>std</td>\n",
              "      <td>four</td>\n",
              "      <td>sedan</td>\n",
              "      <td>fwd</td>\n",
              "      <td>front</td>\n",
              "      <td>99.8</td>\n",
              "      <td>...</td>\n",
              "      <td>109</td>\n",
              "      <td>mpfi</td>\n",
              "      <td>3.19</td>\n",
              "      <td>3.40</td>\n",
              "      <td>10.0</td>\n",
              "      <td>102</td>\n",
              "      <td>5500</td>\n",
              "      <td>24</td>\n",
              "      <td>30</td>\n",
              "      <td>13950</td>\n",
              "    </tr>\n",
              "    <tr>\n",
              "      <th>3</th>\n",
              "      <td>2</td>\n",
              "      <td>164</td>\n",
              "      <td>audi</td>\n",
              "      <td>gas</td>\n",
              "      <td>std</td>\n",
              "      <td>four</td>\n",
              "      <td>sedan</td>\n",
              "      <td>4wd</td>\n",
              "      <td>front</td>\n",
              "      <td>99.4</td>\n",
              "      <td>...</td>\n",
              "      <td>136</td>\n",
              "      <td>mpfi</td>\n",
              "      <td>3.19</td>\n",
              "      <td>3.40</td>\n",
              "      <td>8.0</td>\n",
              "      <td>115</td>\n",
              "      <td>5500</td>\n",
              "      <td>18</td>\n",
              "      <td>22</td>\n",
              "      <td>17450</td>\n",
              "    </tr>\n",
              "    <tr>\n",
              "      <th>4</th>\n",
              "      <td>2</td>\n",
              "      <td>?</td>\n",
              "      <td>audi</td>\n",
              "      <td>gas</td>\n",
              "      <td>std</td>\n",
              "      <td>two</td>\n",
              "      <td>sedan</td>\n",
              "      <td>fwd</td>\n",
              "      <td>front</td>\n",
              "      <td>99.8</td>\n",
              "      <td>...</td>\n",
              "      <td>136</td>\n",
              "      <td>mpfi</td>\n",
              "      <td>3.19</td>\n",
              "      <td>3.40</td>\n",
              "      <td>8.5</td>\n",
              "      <td>110</td>\n",
              "      <td>5500</td>\n",
              "      <td>19</td>\n",
              "      <td>25</td>\n",
              "      <td>15250</td>\n",
              "    </tr>\n",
              "  </tbody>\n",
              "</table>\n",
              "<p>5 rows × 26 columns</p>\n",
              "</div>\n",
              "      <button class=\"colab-df-convert\" onclick=\"convertToInteractive('df-79c462ee-7981-4fc1-b910-8877ac560cf8')\"\n",
              "              title=\"Convert this dataframe to an interactive table.\"\n",
              "              style=\"display:none;\">\n",
              "        \n",
              "  <svg xmlns=\"http://www.w3.org/2000/svg\" height=\"24px\"viewBox=\"0 0 24 24\"\n",
              "       width=\"24px\">\n",
              "    <path d=\"M0 0h24v24H0V0z\" fill=\"none\"/>\n",
              "    <path d=\"M18.56 5.44l.94 2.06.94-2.06 2.06-.94-2.06-.94-.94-2.06-.94 2.06-2.06.94zm-11 1L8.5 8.5l.94-2.06 2.06-.94-2.06-.94L8.5 2.5l-.94 2.06-2.06.94zm10 10l.94 2.06.94-2.06 2.06-.94-2.06-.94-.94-2.06-.94 2.06-2.06.94z\"/><path d=\"M17.41 7.96l-1.37-1.37c-.4-.4-.92-.59-1.43-.59-.52 0-1.04.2-1.43.59L10.3 9.45l-7.72 7.72c-.78.78-.78 2.05 0 2.83L4 21.41c.39.39.9.59 1.41.59.51 0 1.02-.2 1.41-.59l7.78-7.78 2.81-2.81c.8-.78.8-2.07 0-2.86zM5.41 20L4 18.59l7.72-7.72 1.47 1.35L5.41 20z\"/>\n",
              "  </svg>\n",
              "      </button>\n",
              "      \n",
              "  <style>\n",
              "    .colab-df-container {\n",
              "      display:flex;\n",
              "      flex-wrap:wrap;\n",
              "      gap: 12px;\n",
              "    }\n",
              "\n",
              "    .colab-df-convert {\n",
              "      background-color: #E8F0FE;\n",
              "      border: none;\n",
              "      border-radius: 50%;\n",
              "      cursor: pointer;\n",
              "      display: none;\n",
              "      fill: #1967D2;\n",
              "      height: 32px;\n",
              "      padding: 0 0 0 0;\n",
              "      width: 32px;\n",
              "    }\n",
              "\n",
              "    .colab-df-convert:hover {\n",
              "      background-color: #E2EBFA;\n",
              "      box-shadow: 0px 1px 2px rgba(60, 64, 67, 0.3), 0px 1px 3px 1px rgba(60, 64, 67, 0.15);\n",
              "      fill: #174EA6;\n",
              "    }\n",
              "\n",
              "    [theme=dark] .colab-df-convert {\n",
              "      background-color: #3B4455;\n",
              "      fill: #D2E3FC;\n",
              "    }\n",
              "\n",
              "    [theme=dark] .colab-df-convert:hover {\n",
              "      background-color: #434B5C;\n",
              "      box-shadow: 0px 1px 3px 1px rgba(0, 0, 0, 0.15);\n",
              "      filter: drop-shadow(0px 1px 2px rgba(0, 0, 0, 0.3));\n",
              "      fill: #FFFFFF;\n",
              "    }\n",
              "  </style>\n",
              "\n",
              "      <script>\n",
              "        const buttonEl =\n",
              "          document.querySelector('#df-79c462ee-7981-4fc1-b910-8877ac560cf8 button.colab-df-convert');\n",
              "        buttonEl.style.display =\n",
              "          google.colab.kernel.accessAllowed ? 'block' : 'none';\n",
              "\n",
              "        async function convertToInteractive(key) {\n",
              "          const element = document.querySelector('#df-79c462ee-7981-4fc1-b910-8877ac560cf8');\n",
              "          const dataTable =\n",
              "            await google.colab.kernel.invokeFunction('convertToInteractive',\n",
              "                                                     [key], {});\n",
              "          if (!dataTable) return;\n",
              "\n",
              "          const docLinkHtml = 'Like what you see? Visit the ' +\n",
              "            '<a target=\"_blank\" href=https://colab.research.google.com/notebooks/data_table.ipynb>data table notebook</a>'\n",
              "            + ' to learn more about interactive tables.';\n",
              "          element.innerHTML = '';\n",
              "          dataTable['output_type'] = 'display_data';\n",
              "          await google.colab.output.renderOutput(dataTable, element);\n",
              "          const docLink = document.createElement('div');\n",
              "          docLink.innerHTML = docLinkHtml;\n",
              "          element.appendChild(docLink);\n",
              "        }\n",
              "      </script>\n",
              "    </div>\n",
              "  </div>\n",
              "  "
            ]
          },
          "metadata": {},
          "execution_count": 2
        }
      ],
      "source": [
        "# load the dataset\n",
        "df=pd.read_csv('/content/imports-85.data')\n",
        "\n",
        "# Set column names based on the \"imports-85.names\" file \n",
        "df.columns = [\"symboling\", \"normalized-losses\", \"make\", \"fuel-type\", \"aspiration\", \"num-of-doors\", \"body-style\", \"drive-wheels\", \"engine-location\", \"wheel-base\", \"length\", \"width\", \"height\", \"curb-weight\", \"engine-type\", \"num-of-cylinders\", \"engine-size\", \"fuel-system\", \"bore\", \"stroke\", \"compression-ratio\", \"horsepower\", \"peak-rpm\", \"city-mpg\", \"highway-mpg\", \"price\"]\n",
        "df.head(5)  # To display first 5 rows of the dataset\n"
      ]
    },
    {
      "cell_type": "code",
      "source": [
        "# find the number of rows and columns in the dataset\n",
        "df.shape"
      ],
      "metadata": {
        "colab": {
          "base_uri": "https://localhost:8080/"
        },
        "id": "kG9F8-EhXUCS",
        "outputId": "6d97122d-966c-40ae-cde3-b81b8edff90f"
      },
      "execution_count": 3,
      "outputs": [
        {
          "output_type": "execute_result",
          "data": {
            "text/plain": [
              "(204, 26)"
            ]
          },
          "metadata": {},
          "execution_count": 3
        }
      ]
    },
    {
      "cell_type": "markdown",
      "source": [
        "# 2.\tPerform data cleaning and handle missing values, duplicates, and outliers"
      ],
      "metadata": {
        "id": "GpZduDhzZWDp"
      }
    },
    {
      "cell_type": "code",
      "source": [
        "df.dtypes"
      ],
      "metadata": {
        "colab": {
          "base_uri": "https://localhost:8080/"
        },
        "id": "q3Pu9KJzlck9",
        "outputId": "9f9d84bf-7bd3-41c0-8389-7b1177fd2e6d"
      },
      "execution_count": 4,
      "outputs": [
        {
          "output_type": "execute_result",
          "data": {
            "text/plain": [
              "symboling              int64\n",
              "normalized-losses     object\n",
              "make                  object\n",
              "fuel-type             object\n",
              "aspiration            object\n",
              "num-of-doors          object\n",
              "body-style            object\n",
              "drive-wheels          object\n",
              "engine-location       object\n",
              "wheel-base           float64\n",
              "length               float64\n",
              "width                float64\n",
              "height               float64\n",
              "curb-weight            int64\n",
              "engine-type           object\n",
              "num-of-cylinders      object\n",
              "engine-size            int64\n",
              "fuel-system           object\n",
              "bore                  object\n",
              "stroke                object\n",
              "compression-ratio    float64\n",
              "horsepower            object\n",
              "peak-rpm              object\n",
              "city-mpg               int64\n",
              "highway-mpg            int64\n",
              "price                 object\n",
              "dtype: object"
            ]
          },
          "metadata": {},
          "execution_count": 4
        }
      ]
    },
    {
      "cell_type": "code",
      "source": [
        "# Convert the \"normalized-losses\", \"num-of-doors\", \"bore\", \"stroke\", \"horsepower\", \"peak-rpm\", and \"price\"  column to a numeric data type\n",
        "df[\"horsepower\"] = pd.to_numeric(df[\"horsepower\"], errors='coerce')\n",
        "df[\"price\"] = pd.to_numeric(df[\"price\"], errors=\"coerce\")\n",
        "df[\"normalized-losses\"] = pd.to_numeric(df[\"normalized-losses\"], errors='coerce')\n",
        "df[\"num-of-doors\"] = pd.to_numeric(df[\"num-of-doors\"], errors=\"coerce\")\n",
        "df[\"bore\"] = pd.to_numeric(df[\"bore\"], errors='coerce')\n",
        "df[\"stroke\"] = pd.to_numeric(df[\"stroke\"], errors=\"coerce\")\n",
        "df[\"peak-rpm\"] = pd.to_numeric(df[\"peak-rpm\"], errors=\"coerce\")"
      ],
      "metadata": {
        "id": "0wiFuqmUl1Hk"
      },
      "execution_count": 5,
      "outputs": []
    },
    {
      "cell_type": "code",
      "source": [
        "# Check for missing values\n",
        "# Replace \"?\" with NaN\n",
        "df.replace(\"?\", np.nan, inplace=True)\n",
        "\n",
        "print(df.isna().sum())"
      ],
      "metadata": {
        "colab": {
          "base_uri": "https://localhost:8080/"
        },
        "id": "ULQCcL3rZbBK",
        "outputId": "e0aa4770-48a9-490f-b3fe-739d1fd43837"
      },
      "execution_count": 6,
      "outputs": [
        {
          "output_type": "stream",
          "name": "stdout",
          "text": [
            "symboling              0\n",
            "normalized-losses     40\n",
            "make                   0\n",
            "fuel-type              0\n",
            "aspiration             0\n",
            "num-of-doors         204\n",
            "body-style             0\n",
            "drive-wheels           0\n",
            "engine-location        0\n",
            "wheel-base             0\n",
            "length                 0\n",
            "width                  0\n",
            "height                 0\n",
            "curb-weight            0\n",
            "engine-type            0\n",
            "num-of-cylinders       0\n",
            "engine-size            0\n",
            "fuel-system            0\n",
            "bore                   4\n",
            "stroke                 4\n",
            "compression-ratio      0\n",
            "horsepower             2\n",
            "peak-rpm               2\n",
            "city-mpg               0\n",
            "highway-mpg            0\n",
            "price                  4\n",
            "dtype: int64\n"
          ]
        }
      ]
    },
    {
      "cell_type": "code",
      "source": [
        "# Fill missing values with the mean of the column\n",
        "df.fillna(df.mean(), inplace=True)\n",
        "\n",
        "# Verify that there are no more missing values\n",
        "print(df.isna().sum())"
      ],
      "metadata": {
        "colab": {
          "base_uri": "https://localhost:8080/"
        },
        "id": "RgpnLATZZtxd",
        "outputId": "ec5bdd4c-7cee-4565-936a-56f456b79ff9"
      },
      "execution_count": 7,
      "outputs": [
        {
          "output_type": "stream",
          "name": "stdout",
          "text": [
            "symboling              0\n",
            "normalized-losses      0\n",
            "make                   0\n",
            "fuel-type              0\n",
            "aspiration             0\n",
            "num-of-doors         204\n",
            "body-style             0\n",
            "drive-wheels           0\n",
            "engine-location        0\n",
            "wheel-base             0\n",
            "length                 0\n",
            "width                  0\n",
            "height                 0\n",
            "curb-weight            0\n",
            "engine-type            0\n",
            "num-of-cylinders       0\n",
            "engine-size            0\n",
            "fuel-system            0\n",
            "bore                   0\n",
            "stroke                 0\n",
            "compression-ratio      0\n",
            "horsepower             0\n",
            "peak-rpm               0\n",
            "city-mpg               0\n",
            "highway-mpg            0\n",
            "price                  0\n",
            "dtype: int64\n"
          ]
        },
        {
          "output_type": "stream",
          "name": "stderr",
          "text": [
            "<ipython-input-7-4ba8d8e9a4f2>:2: FutureWarning: The default value of numeric_only in DataFrame.mean is deprecated. In a future version, it will default to False. In addition, specifying 'numeric_only=None' is deprecated. Select only valid columns or specify the value of numeric_only to silence this warning.\n",
            "  df.fillna(df.mean(), inplace=True)\n"
          ]
        }
      ]
    },
    {
      "cell_type": "code",
      "source": [
        "# Drop duplicates\n",
        "df.drop_duplicates(inplace=True)"
      ],
      "metadata": {
        "id": "eIUt5PkkfSm0"
      },
      "execution_count": 8,
      "outputs": []
    },
    {
      "cell_type": "markdown",
      "source": [
        "# 3.\tPerform feature selection and remove the irrelevant features"
      ],
      "metadata": {
        "id": "duSGdBrPcyQS"
      }
    },
    {
      "cell_type": "code",
      "source": [
        "\n",
        "# Print correlation matrix\n",
        "corr_matrix = df.corr()\n",
        "print(corr_matrix[\"price\"])"
      ],
      "metadata": {
        "colab": {
          "base_uri": "https://localhost:8080/"
        },
        "id": "C4Dcn8DHcy2Y",
        "outputId": "9d491dd2-c477-4578-c1ca-5ba7c222daaf"
      },
      "execution_count": 9,
      "outputs": [
        {
          "output_type": "stream",
          "name": "stdout",
          "text": [
            "symboling           -0.083136\n",
            "normalized-losses    0.133999\n",
            "num-of-doors              NaN\n",
            "wheel-base           0.587607\n",
            "length               0.683372\n",
            "width                0.730130\n",
            "height               0.136123\n",
            "curb-weight          0.820831\n",
            "engine-size          0.861753\n",
            "bore                 0.532562\n",
            "stroke               0.083115\n",
            "compression-ratio    0.071058\n",
            "horsepower           0.757943\n",
            "peak-rpm            -0.100833\n",
            "city-mpg            -0.668021\n",
            "highway-mpg         -0.690937\n",
            "price                1.000000\n",
            "Name: price, dtype: float64\n"
          ]
        },
        {
          "output_type": "stream",
          "name": "stderr",
          "text": [
            "<ipython-input-9-e4efa0bbd84e>:2: FutureWarning: The default value of numeric_only in DataFrame.corr is deprecated. In a future version, it will default to False. Select only valid columns or specify the value of numeric_only to silence this warning.\n",
            "  corr_matrix = df.corr()\n"
          ]
        }
      ]
    },
    {
      "cell_type": "code",
      "source": [
        "# symboling\", \"normalized-losses\", \"height\", \"stroke\", \"compression-ratio\", and \"peak-rpm\" have low correlation with the target variable. \n",
        "# Therefore, we can consider removing these features.\n",
        "\n",
        "df1= df.drop(columns=[\"symboling\", \"normalized-losses\", \"height\", \"stroke\", \"compression-ratio\", \"peak-rpm\"])\n",
        "\n",
        "# Print the first 5 rows to verify the removal of features\n",
        "print(df1.head())"
      ],
      "metadata": {
        "colab": {
          "base_uri": "https://localhost:8080/"
        },
        "id": "2ywsXU-Tfooj",
        "outputId": "618f2924-2dcf-41a1-ef65-94cf721f023c"
      },
      "execution_count": 10,
      "outputs": [
        {
          "output_type": "stream",
          "name": "stdout",
          "text": [
            "          make fuel-type aspiration  num-of-doors   body-style drive-wheels  \\\n",
            "0  alfa-romero       gas        std           NaN  convertible          rwd   \n",
            "1  alfa-romero       gas        std           NaN    hatchback          rwd   \n",
            "2         audi       gas        std           NaN        sedan          fwd   \n",
            "3         audi       gas        std           NaN        sedan          4wd   \n",
            "4         audi       gas        std           NaN        sedan          fwd   \n",
            "\n",
            "  engine-location  wheel-base  length  width  curb-weight engine-type  \\\n",
            "0           front        88.6   168.8   64.1         2548        dohc   \n",
            "1           front        94.5   171.2   65.5         2823        ohcv   \n",
            "2           front        99.8   176.6   66.2         2337         ohc   \n",
            "3           front        99.4   176.6   66.4         2824         ohc   \n",
            "4           front        99.8   177.3   66.3         2507         ohc   \n",
            "\n",
            "  num-of-cylinders  engine-size fuel-system  bore  horsepower  city-mpg  \\\n",
            "0             four          130        mpfi  3.47       111.0        21   \n",
            "1              six          152        mpfi  2.68       154.0        19   \n",
            "2             four          109        mpfi  3.19       102.0        24   \n",
            "3             five          136        mpfi  3.19       115.0        18   \n",
            "4             five          136        mpfi  3.19       110.0        19   \n",
            "\n",
            "   highway-mpg    price  \n",
            "0           27  16500.0  \n",
            "1           26  16500.0  \n",
            "2           30  13950.0  \n",
            "3           22  17450.0  \n",
            "4           25  15250.0  \n"
          ]
        }
      ]
    },
    {
      "cell_type": "markdown",
      "source": [
        "# 4.\tPerform feature scaling and transform the data features to a similar scale"
      ],
      "metadata": {
        "id": "N1CklV1TiJk7"
      }
    },
    {
      "cell_type": "code",
      "source": [
        "# Perform feature scaling\n",
        "scaler = StandardScaler()\n",
        "cols_to_scale = [\"wheel-base\", \"length\", \"width\", \"curb-weight\", \"engine-size\", \"horsepower\", \"city-mpg\", \"highway-mpg\", \"price\"]\n",
        "df1[cols_to_scale] = scaler.fit_transform(df1[cols_to_scale])"
      ],
      "metadata": {
        "id": "8QnIBYc3iKty"
      },
      "execution_count": 11,
      "outputs": []
    },
    {
      "cell_type": "markdown",
      "source": [
        "# 5.\tPerform feature transformation and create new features by combining, extracting, or transforming existing features"
      ],
      "metadata": {
        "id": "9aDFe2SOkDu7"
      }
    },
    {
      "cell_type": "code",
      "source": [
        "# We can extract the make of the car from the \"make\" feature by splitting it at the space character and taking the first element.\n",
        "df1['make_extract'] = df1['make'].str.split().str[0]\n",
        "\n",
        "# We can transform the \"num-of-doors\" feature to a binary feature called \"is_two_doors\" which is True if the car has two doors and False if it has four doors.\n",
        "df1['is_two_doors'] = df1['num-of-doors'].apply(lambda x: True if x == 'two' else False)\n",
        "\n",
        "# Transform \"horsepower\" from object to integer and create a new feature \"horsepower_squared\"\n",
        "df1[\"horsepower\"] = df1[\"horsepower\"].astype(int)\n",
        "df1[\"horsepower_squared\"] = df1[\"horsepower\"] ** 2\n",
        "\n",
        "# Create a binary feature \"highway_efficient\" based on the condition that a car has a highway MPG of 30 or higher\n",
        "df1[\"highway_efficient\"] = np.where(df1[\"highway-mpg\"] >= 30, 1, 0)\n",
        "\n",
        "# Group by \"make\" and calculate the average \"price\" to create a new feature \"make_avg_price\"\n",
        "make_avg_price = df1.groupby(\"make\")[\"price\"].mean().reset_index(name=\"make_avg_price\")\n",
        "df1 = df1.merge(make_avg_price, on=\"make\", how=\"left\")\n"
      ],
      "metadata": {
        "id": "_hau-3AzkGnK"
      },
      "execution_count": 12,
      "outputs": []
    },
    {
      "cell_type": "code",
      "source": [
        "df.columns\n"
      ],
      "metadata": {
        "colab": {
          "base_uri": "https://localhost:8080/"
        },
        "id": "pkPz-Jz-qKcr",
        "outputId": "cd8f2a13-ccfe-4159-81e3-4a4ae1726323"
      },
      "execution_count": 13,
      "outputs": [
        {
          "output_type": "execute_result",
          "data": {
            "text/plain": [
              "Index(['symboling', 'normalized-losses', 'make', 'fuel-type', 'aspiration',\n",
              "       'num-of-doors', 'body-style', 'drive-wheels', 'engine-location',\n",
              "       'wheel-base', 'length', 'width', 'height', 'curb-weight', 'engine-type',\n",
              "       'num-of-cylinders', 'engine-size', 'fuel-system', 'bore', 'stroke',\n",
              "       'compression-ratio', 'horsepower', 'peak-rpm', 'city-mpg',\n",
              "       'highway-mpg', 'price'],\n",
              "      dtype='object')"
            ]
          },
          "metadata": {},
          "execution_count": 13
        }
      ]
    },
    {
      "cell_type": "code",
      "source": [
        "df.dtypes"
      ],
      "metadata": {
        "colab": {
          "base_uri": "https://localhost:8080/"
        },
        "id": "O37itRGQsgGs",
        "outputId": "d939010b-6998-43d0-83df-8a6ed16f5394"
      },
      "execution_count": 14,
      "outputs": [
        {
          "output_type": "execute_result",
          "data": {
            "text/plain": [
              "symboling              int64\n",
              "normalized-losses    float64\n",
              "make                  object\n",
              "fuel-type             object\n",
              "aspiration            object\n",
              "num-of-doors         float64\n",
              "body-style            object\n",
              "drive-wheels          object\n",
              "engine-location       object\n",
              "wheel-base           float64\n",
              "length               float64\n",
              "width                float64\n",
              "height               float64\n",
              "curb-weight            int64\n",
              "engine-type           object\n",
              "num-of-cylinders      object\n",
              "engine-size            int64\n",
              "fuel-system           object\n",
              "bore                 float64\n",
              "stroke               float64\n",
              "compression-ratio    float64\n",
              "horsepower           float64\n",
              "peak-rpm             float64\n",
              "city-mpg               int64\n",
              "highway-mpg            int64\n",
              "price                float64\n",
              "dtype: object"
            ]
          },
          "metadata": {},
          "execution_count": 14
        }
      ]
    },
    {
      "cell_type": "code",
      "source": [
        "df1.columns"
      ],
      "metadata": {
        "colab": {
          "base_uri": "https://localhost:8080/"
        },
        "id": "WRG2URVmqTPR",
        "outputId": "0c2bfdfe-d29d-4f35-b9df-8448ec70f69d"
      },
      "execution_count": 15,
      "outputs": [
        {
          "output_type": "execute_result",
          "data": {
            "text/plain": [
              "Index(['make', 'fuel-type', 'aspiration', 'num-of-doors', 'body-style',\n",
              "       'drive-wheels', 'engine-location', 'wheel-base', 'length', 'width',\n",
              "       'curb-weight', 'engine-type', 'num-of-cylinders', 'engine-size',\n",
              "       'fuel-system', 'bore', 'horsepower', 'city-mpg', 'highway-mpg', 'price',\n",
              "       'make_extract', 'is_two_doors', 'horsepower_squared',\n",
              "       'highway_efficient', 'make_avg_price'],\n",
              "      dtype='object')"
            ]
          },
          "metadata": {},
          "execution_count": 15
        }
      ]
    },
    {
      "cell_type": "code",
      "source": [
        "df1.dtypes"
      ],
      "metadata": {
        "colab": {
          "base_uri": "https://localhost:8080/"
        },
        "id": "Axp_0n0bsjMM",
        "outputId": "d9a34165-19d4-4b37-914c-06cd1054732f"
      },
      "execution_count": 16,
      "outputs": [
        {
          "output_type": "execute_result",
          "data": {
            "text/plain": [
              "make                   object\n",
              "fuel-type              object\n",
              "aspiration             object\n",
              "num-of-doors          float64\n",
              "body-style             object\n",
              "drive-wheels           object\n",
              "engine-location        object\n",
              "wheel-base            float64\n",
              "length                float64\n",
              "width                 float64\n",
              "curb-weight           float64\n",
              "engine-type            object\n",
              "num-of-cylinders       object\n",
              "engine-size           float64\n",
              "fuel-system            object\n",
              "bore                  float64\n",
              "horsepower              int64\n",
              "city-mpg              float64\n",
              "highway-mpg           float64\n",
              "price                 float64\n",
              "make_extract           object\n",
              "is_two_doors             bool\n",
              "horsepower_squared      int64\n",
              "highway_efficient       int64\n",
              "make_avg_price        float64\n",
              "dtype: object"
            ]
          },
          "metadata": {},
          "execution_count": 16
        }
      ]
    },
    {
      "cell_type": "markdown",
      "source": [
        "# 6.\tEvaluate the performance of machine learning models before and after feature engineering"
      ],
      "metadata": {
        "id": "DKETKosTpVB4"
      }
    },
    {
      "cell_type": "code",
      "source": [
        "categorical_cols = ['make', 'fuel-type', 'aspiration', 'num-of-doors', 'body-style', 'drive-wheels', \n",
        "                    'engine-location', 'engine-type', 'num-of-cylinders', 'fuel-system']\n",
        "\n",
        "# One-hot encode categorical columns\n",
        "df = pd.get_dummies(df, columns=categorical_cols, drop_first=True)\n",
        "\n",
        "# Split the dataset into training and testing sets\n",
        "X = df.drop('price', axis=1)\n",
        "y = df['price']\n",
        "X_train, X_test, y_train, y_test = train_test_split(X, y, test_size=0.2, random_state=42)\n",
        "\n",
        "# Train and test a linear regression model on the original dataset\n",
        "lr = LinearRegression()\n",
        "lr.fit(X_train, y_train)\n",
        "y_pred = lr.predict(X_test)\n",
        "print('Mean squared error on original dataset:', mean_squared_error(y_test, y_pred))"
      ],
      "metadata": {
        "colab": {
          "base_uri": "https://localhost:8080/"
        },
        "id": "gPRoA-XCpVZX",
        "outputId": "403ed1c2-20a0-4987-8a5c-d578e7d9be24"
      },
      "execution_count": 17,
      "outputs": [
        {
          "output_type": "stream",
          "name": "stdout",
          "text": [
            "Mean squared error on original dataset: 23136617.509014085\n"
          ]
        }
      ]
    },
    {
      "cell_type": "code",
      "source": [
        "categorical_cols = ['make', 'fuel-type', 'aspiration', 'num-of-doors', 'body-style', 'drive-wheels', \n",
        "                    'engine-location', 'engine-type', 'num-of-cylinders', 'fuel-system', 'make_extract', 'is_two_doors']\n",
        "\n",
        "# One-hot encode categorical columns\n",
        "df1 = pd.get_dummies(df1, columns=categorical_cols, drop_first=True)\n",
        "\n",
        "# Split the modified dataset into training and testing sets\n",
        "X1 = df1.drop('price', axis=1)\n",
        "y1 = df1['price']\n",
        "X1_train, X1_test, y1_train, y1_test = train_test_split(X1, y1, test_size=0.2)\n",
        "\n",
        "# Train and test a linear regression model on the modified dataset\n",
        "lr1 = LinearRegression()\n",
        "lr1.fit(X1_train, y1_train)\n",
        "y1_pred = lr1.predict(X1_test)\n",
        "print('Mean squared error on modified dataset:', mean_squared_error(y1_test, y1_pred))"
      ],
      "metadata": {
        "colab": {
          "base_uri": "https://localhost:8080/"
        },
        "id": "bPVuUMB4usI_",
        "outputId": "24e108d1-a77f-40a8-f522-e3cf77e7f9ea"
      },
      "execution_count": 19,
      "outputs": [
        {
          "output_type": "stream",
          "name": "stdout",
          "text": [
            "Mean squared error on modified dataset: 0.07366504266559477\n"
          ]
        }
      ]
    },
    {
      "cell_type": "markdown",
      "source": [
        "# As we can see, the mean squared error on the modified dataset is lower than that on the original dataset. This indicates that feature engineering has improved the performance of the linear regression model on this dataset."
      ],
      "metadata": {
        "id": "uiKeyaJVxdY-"
      }
    }
  ]
}